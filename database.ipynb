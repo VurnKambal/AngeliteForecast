{
 "cells": [
  {
   "cell_type": "code",
   "execution_count": null,
   "metadata": {},
   "outputs": [],
   "source": [
    "%pip install psycopg2\n",
    "%pip install sqlalchemy"
   ]
  },
  {
   "cell_type": "code",
   "execution_count": 2,
   "metadata": {},
   "outputs": [
    {
     "ename": "DuplicateDatabase",
     "evalue": "database \"angeliteforecast\" already exists\n",
     "output_type": "error",
     "traceback": [
      "\u001b[1;31m---------------------------------------------------------------------------\u001b[0m",
      "\u001b[1;31mDuplicateDatabase\u001b[0m                         Traceback (most recent call last)",
      "Cell \u001b[1;32mIn[2], line 14\u001b[0m\n\u001b[0;32m     11\u001b[0m     conn\u001b[38;5;241m.\u001b[39mclose()\n\u001b[0;32m     13\u001b[0m \u001b[38;5;66;03m# Create the database\u001b[39;00m\n\u001b[1;32m---> 14\u001b[0m \u001b[43mcreate_database\u001b[49m\u001b[43m(\u001b[49m\u001b[38;5;124;43m'\u001b[39;49m\u001b[38;5;124;43mangeliteforecast\u001b[39;49m\u001b[38;5;124;43m'\u001b[39;49m\u001b[43m,\u001b[49m\u001b[43m \u001b[49m\u001b[38;5;124;43m'\u001b[39;49m\u001b[38;5;124;43mpostgres\u001b[39;49m\u001b[38;5;124;43m'\u001b[39;49m\u001b[43m,\u001b[49m\u001b[43m \u001b[49m\u001b[38;5;124;43m'\u001b[39;49m\u001b[38;5;124;43mthesis\u001b[39;49m\u001b[38;5;124;43m'\u001b[39;49m\u001b[43m)\u001b[49m\n",
      "Cell \u001b[1;32mIn[2], line 9\u001b[0m, in \u001b[0;36mcreate_database\u001b[1;34m(db_name, username, password, host, port)\u001b[0m\n\u001b[0;32m      7\u001b[0m conn\u001b[38;5;241m.\u001b[39mset_isolation_level(psycopg2\u001b[38;5;241m.\u001b[39mextensions\u001b[38;5;241m.\u001b[39mISOLATION_LEVEL_AUTOCOMMIT)\n\u001b[0;32m      8\u001b[0m cur \u001b[38;5;241m=\u001b[39m conn\u001b[38;5;241m.\u001b[39mcursor()\n\u001b[1;32m----> 9\u001b[0m \u001b[43mcur\u001b[49m\u001b[38;5;241;43m.\u001b[39;49m\u001b[43mexecute\u001b[49m\u001b[43m(\u001b[49m\u001b[38;5;124;43mf\u001b[39;49m\u001b[38;5;124;43m\"\u001b[39;49m\u001b[38;5;124;43mCREATE DATABASE \u001b[39;49m\u001b[38;5;132;43;01m{\u001b[39;49;00m\u001b[43mdb_name\u001b[49m\u001b[38;5;132;43;01m}\u001b[39;49;00m\u001b[38;5;124;43m;\u001b[39;49m\u001b[38;5;124;43m\"\u001b[39;49m\u001b[43m)\u001b[49m\n\u001b[0;32m     10\u001b[0m cur\u001b[38;5;241m.\u001b[39mclose()\n\u001b[0;32m     11\u001b[0m conn\u001b[38;5;241m.\u001b[39mclose()\n",
      "\u001b[1;31mDuplicateDatabase\u001b[0m: database \"angeliteforecast\" already exists\n"
     ]
    }
   ],
   "source": [
    "import psycopg2\n",
    "from sqlalchemy import create_engine\n",
    "\n",
    "# Function to create a new database\n",
    "def create_database(db_name, username, password, host='localhost', port=5432):\n",
    "    conn = psycopg2.connect(dbname=\"postgres\", user=username, password=password, host=host, port=port)\n",
    "    conn.set_isolation_level(psycopg2.extensions.ISOLATION_LEVEL_AUTOCOMMIT)\n",
    "    cur = conn.cursor()\n",
    "    cur.execute(f\"CREATE DATABASE {db_name};\")\n",
    "    cur.close()\n",
    "    conn.close()\n",
    "\n",
    "# Create the database\n",
    "create_database('angeliteforecast', 'postgres', 'thesis')"
   ]
  },
  {
   "cell_type": "code",
   "execution_count": 1,
   "metadata": {},
   "outputs": [],
   "source": [
    "import psycopg2\n",
    "import pandas as pd\n",
    "from sqlalchemy import create_engine\n",
    "\n",
    "def connect_to_database(username, password, host='localhost', port=5432, db_name='angeliteforecast'):\n",
    "    \"\"\"Create a database connection.\"\"\"\n",
    "    connection_string = f'postgresql://{username}:{password}@{host}:{port}/{db_name}'\n",
    "    engine = create_engine(connection_string)\n",
    "    return engine\n",
    "engine = connect_to_database(\"postgres\", \"thesis\")\n",
    "\n"
   ]
  },
  {
   "cell_type": "code",
   "execution_count": null,
   "metadata": {},
   "outputs": [],
   "source": [
    "import pandas as pd\n",
    "\n",
    "\n",
    "from sklearn.metrics import mean_absolute_error, mean_squared_error, r2_score\n",
    "\n",
    "similar_majors_dict = {\n",
    "    # CCJEF\n",
    "    \"Criminology\": [\"BS Criminology\"], # Combine Criminology and BS Criminology\n",
    "\n",
    "    \n",
    "    # SAS\n",
    "    \"ABComm\": [\"BA Comm\"],\n",
    "    \"CommArts\": [\"BA Comm\"],\n",
    "    \"AdvPublicRel\": [\"BA Comm\"], # Area of Specialization\n",
    "    # \"CommArts\": \"BA Comm\",     # Lack of Data | Drop\n",
    "\n",
    "\n",
    "    # SBA\n",
    "    \"Accounting\": [\"Accountancy\"],\n",
    "    \"Accounting Tech\": [\"BSAcctgInfoSys\"],\n",
    "    \"BSBA-BM-Marketi\": [\"BusMgt\", \"BSBA-MktgMgmt\"],\n",
    "    \"BussMgmt-HRM\": [\"BusMgt\", \"BSBA-HRMgmt\"],\n",
    "\n",
    "\n",
    "    # SEA\n",
    "    \"ECE\": [\"ELECENG\"],\n",
    "    # \"BSCE-CEM\": [\"CE\", \"BSCE-CEM\"],\n",
    "    # \"BSCE-SE\": [\"CE\", \"BSCE-SE\"],\n",
    "    # \"BSCE-TE\": [\"CE\", \"BSCE-TE\"],\n",
    "\n",
    "\n",
    "\n",
    "\n",
    "    # SED\n",
    "    \"BEED-MajSPED\": [\"BSNEd\"],           # Name change?\n",
    "    \"BEED-SpecialEdu\": [\"BSNEd\"],        # Name change?\n",
    "    \"BPE-SPE\": [\"BPEd\"],                   # Name change?\n",
    "    \"BSED-ValEd\": [\"BSED-RelValEd\"],\n",
    "    \"BSMath\": [\"Math\"],\n",
    "    \n",
    "\n",
    "    # SHTM\n",
    "    \"BS EventMgmt\": [\"BSTM-Events\"],\n",
    "\n",
    "\n",
    "    # SOC\n",
    "    \"BSCSSysDev\": [\"BSCompsci\"],              # New Curriculum\n",
    "    \"BSITAnimation\": [\"BSEMC-DA\"],            # New Curriculum\n",
    "    \"BSITAreaAnimati\": [\"BSEMC-DA\"],          # New Curriculum\n",
    "    \"BSCyberplusPSM\": [\"BSCybersecurity\"],    # Same Major but with Professional Science Master's Degree\n",
    "    # \"BSInfoTech\": \"BSIT\",                 # General IT Major | Lack of Data | Drop\n",
    "    # \"BSITMultiTec\": \"BSIT\",               # Discontinued | Lack of Data | Drop\n",
    "    \"BSITAreaNetAdmi\": [\"BSITNetAdmin\"], \n",
    "    \"BSITAreaWebDev\": [\"BSITWebdev\"],\n",
    "\n",
    "    }\n",
    "\n",
    "# Dictionary for major with incorrect department\n",
    "incorrect_department_dict = {\n",
    "    \"BSBA-HRM\": \"SBA\",\n",
    "    # \"MAPEH-BSED\": \"SED\",\n",
    "}\n",
    "\n",
    "department_dict = {\n",
    "    \"CHTM\" : \"SHTM\",\n",
    "    \"CICT\" : \"SOC\",\n",
    "}\n",
    "\n",
    "# List of majors to drop\n",
    "drop_majors = [\n",
    "    # MA\n",
    "    # \"MAPEH-BSED\",     # Lack of data | Discontinued | SED Department?\n",
    "    \"MBM\",              # Lack of data | only 1 student\n",
    "    \"MSEngMgmt\",        # Lack of data | only 1 student\n",
    "    \n",
    "\n",
    "    # SAS\n",
    "    # \"CommArts\",         # Lack of data | only 1 student\n",
    "    \"LanguageLit\",      # Lack of data | only 1 student\n",
    "\n",
    "    # SED\n",
    "    \n",
    "    # SHTM\n",
    "    \"BSBATourism\",\n",
    "    \"BSTM-Tourism\",     # Lack of data | BSTourism? | only 2 students\n",
    "\n",
    "\n",
    "    # SOC\n",
    "    \"AssCompSci\",       # Lack of data | only 1 student\n",
    "    \"BSITMultiTec\",     # Lack of data | Discontinued\n",
    "    \"BSInfoTech\",       # Lack of data | only 1 student\n",
    "\n",
    "    # SEA\n",
    "    \"ECETech.\",        # Lack of data | Discontinued\n",
    "\n",
    "\n",
    "    # Extras | Aggregate Counts\n",
    "    \"TOTAL\",\n",
    "    \"GRAND TOTAL\",\n",
    "]\n",
    "\n"
   ]
  },
  {
   "cell_type": "code",
   "execution_count": null,
   "metadata": {},
   "outputs": [],
   "source": [
    "def clean_data(df):\n",
    "    \n",
    "\n",
    "    # Step 2: Correct departments\n",
    "\n",
    "    for major, department in incorrect_department_dict.items():\n",
    "        df.loc[df[\"Major\"]== major, 'Department'] = department\n",
    "        \n",
    "    # Step 3: Rename departments\n",
    "    df['Department'] = df['Department'].replace(department_dict)\n",
    "\n",
    "    # Step 4: Drop unwanted majors\n",
    "    # df = df[~df['Major'].isin(drop_majors)]\n",
    "\n",
    "    # df = df[~df['Department'].isin(['GS', 'JHS', 'HAUSPELL', 'HAU', 'MA'])]\n",
    "    df = df.reset_index(drop=True)\n",
    "    df =df.sort_values(by=[\"Start_Year\", \"Semester\", \"Department\", \"Major\"])\n",
    "    return df\n"
   ]
  },
  {
   "cell_type": "code",
   "execution_count": null,
   "metadata": {},
   "outputs": [
    {
     "data": {
      "text/plain": [
       "54"
      ]
     },
     "metadata": {},
     "output_type": "display_data"
    }
   ],
   "source": [
    "df = pd.read_csv(\"data/Enrollment_Data.csv\").sort_values(by=[\"Start_Year\", \"Semester\", \"Department\", \"Major\"])\n",
    "cpi_df = pd.read_csv(\"data/CPI_Education.csv\").sort_values(by=[\"Year\", \"Month\"])\n",
    "inflation_df = pd.read_csv(\"data/Inflation_Rate.csv\").sort_values(by=\"Start_Year\")\n",
    "admission_df = pd.read_csv(\"data/Admission_Data.csv\").sort_values(by=[\"Start_Year\", \"Department\"])\n",
    "hfce_df = pd.read_csv(\"data/HFCE.csv\").sort_values(by=[\"Start_Year\", \"Quarter\"])\n",
    "\n",
    "df = clean_data(df)\n",
    "\n",
    "# Upload data to database\n",
    "df.to_sql('enrollment', engine, if_exists='replace', index=False)\n",
    "cpi_df.to_sql('cpi_education', engine, if_exists='replace', index=False)\n",
    "inflation_df.to_sql('inflation_rate', engine, if_exists='replace', index=False)\n",
    "admission_df.to_sql('admission', engine, if_exists='replace', index=False)\n",
    "hfce_df.to_sql('hfce', engine, if_exists='replace', index=False)\n"
   ]
  }
 ],
 "metadata": {
  "kernelspec": {
   "display_name": "enrollment",
   "language": "python",
   "name": "python3"
  },
  "language_info": {
   "codemirror_mode": {
    "name": "ipython",
    "version": 3
   },
   "file_extension": ".py",
   "mimetype": "text/x-python",
   "name": "python",
   "nbconvert_exporter": "python",
   "pygments_lexer": "ipython3",
   "version": "3.12.4"
  }
 },
 "nbformat": 4,
 "nbformat_minor": 2
}
