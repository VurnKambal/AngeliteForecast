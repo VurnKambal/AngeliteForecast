{
 "cells": [
  {
   "cell_type": "code",
   "execution_count": null,
   "metadata": {},
   "outputs": [],
   "source": [
    "%pip install psycopg2\n",
    "%pip install sqlalchemy"
   ]
  },
  {
   "cell_type": "code",
   "execution_count": null,
   "metadata": {},
   "outputs": [],
   "source": [
    "import psycopg2\n",
    "import pandas as pd\n",
    "from sqlalchemy import create_engine\n",
    "\n",
    "def connect_to_database(username, password, host='localhost', port=5432, db_name='angeliteforecast'):\n",
    "    \"\"\"Create a database connection.\"\"\"\n",
    "    connection_string = f'postgresql://{username}:{password}@{host}:{port}/{db_name}'\n",
    "    engine = create_engine(connection_string)\n",
    "    return engine\n",
    "engine = connect_to_database(\"postgres\", \"thesis\")\n",
    "\n"
   ]
  },
  {
   "cell_type": "code",
   "execution_count": null,
   "metadata": {},
   "outputs": [],
   "source": [
    "def clean_data(df):\n",
    "    \n",
    "\n",
    "    # Step 2: Correct departments\n",
    "\n",
    "    for major, department in incorrect_department_dict.items():\n",
    "        df.loc[df[\"Major\"]== major, 'Department'] = department\n",
    "        \n",
    "    # Step 3: Rename departments\n",
    "    df['Department'] = df['Department'].replace(department_dict)\n",
    "\n",
    "    # Step 4: Drop unwanted majors\n",
    "    # df = df[~df['Major'].isin(drop_majors)]\n",
    "\n",
    "    # df = df[~df['Department'].isin(['GS', 'JHS', 'HAUSPELL', 'HAU', 'MA'])]\n",
    "    df = df.reset_index(drop=True)\n",
    "    df =df.sort_values(by=[\"Start_Year\", \"Semester\", \"Department\", \"Major\"])\n",
    "    return df\n"
   ]
  },
  {
   "cell_type": "code",
   "execution_count": null,
   "metadata": {},
   "outputs": [
    {
     "data": {
      "text/plain": [
       "54"
      ]
     },
     "metadata": {},
     "output_type": "display_data"
    }
   ],
   "source": [
    "df = pd.read_csv(\"data/Enrollment_Data.csv\").sort_values(by=[\"Start_Year\", \"Semester\", \"Department\", \"Major\"])\n",
    "cpi_df = pd.read_csv(\"data/CPI_Education.csv\").sort_values(by=[\"Year\", \"Month\"])\n",
    "inflation_df = pd.read_csv(\"data/Inflation_Rate.csv\").sort_values(by=\"Start_Year\")\n",
    "admission_df = pd.read_csv(\"data/Admission_Data.csv\").sort_values(by=[\"Start_Year\", \"Department\"])\n",
    "hfce_df = pd.read_csv(\"data/HFCE.csv\").sort_values(by=[\"Start_Year\", \"Quarter\"])\n",
    "\n",
    "df = clean_data(df)\n",
    "\n",
    "# Upload data to database\n",
    "df.to_sql('enrollment', engine, if_exists='replace', index=False)\n",
    "cpi_df.to_sql('cpi_education', engine, if_exists='replace', index=False)\n",
    "inflation_df.to_sql('inflation_rate', engine, if_exists='replace', index=False)\n",
    "admission_df.to_sql('admission', engine, if_exists='replace', index=False)\n",
    "hfce_df.to_sql('hfce', engine, if_exists='replace', index=False)\n"
   ]
  }
 ],
 "metadata": {
  "kernelspec": {
   "display_name": "enrollment",
   "language": "python",
   "name": "python3"
  },
  "language_info": {
   "name": "python",
   "version": "3.12.4"
  }
 },
 "nbformat": 4,
 "nbformat_minor": 2
}
